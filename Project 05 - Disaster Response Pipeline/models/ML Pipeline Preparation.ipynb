{
 "cells": [
  {
   "cell_type": "markdown",
   "metadata": {},
   "source": [
    "# ML Pipeline Preparation\n",
    "Follow the instructions below to help you create your ML pipeline.\n",
    "### 1. Import libraries and load data from database.\n",
    "- Import Python libraries\n",
    "- Load dataset from database with [`read_sql_table`](https://pandas.pydata.org/pandas-docs/stable/generated/pandas.read_sql_table.html)\n",
    "- Define feature and target variables X and Y"
   ]
  },
  {
   "cell_type": "code",
   "execution_count": 23,
   "metadata": {},
   "outputs": [],
   "source": [
    "# import libraries\n",
    "import numpy as np\n",
    "import pandas as pd\n",
    "import sqlalchemy as db\n",
    "import re\n",
    "import nltk\n",
    "from nltk.corpus import stopwords\n",
    "import pickle\n",
    "\n",
    "from sklearn.feature_extraction.text import CountVectorizer, TfidfTransformer\n",
    "from sklearn.model_selection import train_test_split, GridSearchCV\n",
    "from sklearn.ensemble import RandomForestClassifier, AdaBoostClassifier\n",
    "from sklearn.pipeline import Pipeline\n",
    "from sklearn.multioutput import MultiOutputClassifier\n",
    "from sklearn.metrics import f1_score, precision_score, recall_score"
   ]
  },
  {
   "cell_type": "code",
   "execution_count": 2,
   "metadata": {},
   "outputs": [
    {
     "name": "stderr",
     "output_type": "stream",
     "text": [
      "[nltk_data] Downloading package stopwords to\n",
      "[nltk_data]     /Users/larskiewidt/nltk_data...\n",
      "[nltk_data]   Package stopwords is already up-to-date!\n"
     ]
    },
    {
     "data": {
      "text/plain": [
       "True"
      ]
     },
     "execution_count": 2,
     "metadata": {},
     "output_type": "execute_result"
    }
   ],
   "source": [
    "# download stopwords\n",
    "nltk.download('stopwords')"
   ]
  },
  {
   "cell_type": "code",
   "execution_count": 3,
   "metadata": {},
   "outputs": [
    {
     "data": {
      "text/html": [
       "<div>\n",
       "<style scoped>\n",
       "    .dataframe tbody tr th:only-of-type {\n",
       "        vertical-align: middle;\n",
       "    }\n",
       "\n",
       "    .dataframe tbody tr th {\n",
       "        vertical-align: top;\n",
       "    }\n",
       "\n",
       "    .dataframe thead th {\n",
       "        text-align: right;\n",
       "    }\n",
       "</style>\n",
       "<table border=\"1\" class=\"dataframe\">\n",
       "  <thead>\n",
       "    <tr style=\"text-align: right;\">\n",
       "      <th></th>\n",
       "      <th>id</th>\n",
       "      <th>message</th>\n",
       "      <th>original</th>\n",
       "      <th>genre</th>\n",
       "      <th>related</th>\n",
       "      <th>request</th>\n",
       "      <th>offer</th>\n",
       "      <th>aid_related</th>\n",
       "      <th>medical_help</th>\n",
       "      <th>medical_products</th>\n",
       "      <th>...</th>\n",
       "      <th>aid_centers</th>\n",
       "      <th>other_infrastructure</th>\n",
       "      <th>weather_related</th>\n",
       "      <th>floods</th>\n",
       "      <th>storm</th>\n",
       "      <th>fire</th>\n",
       "      <th>earthquake</th>\n",
       "      <th>cold</th>\n",
       "      <th>other_weather</th>\n",
       "      <th>direct_report</th>\n",
       "    </tr>\n",
       "  </thead>\n",
       "  <tbody>\n",
       "    <tr>\n",
       "      <th>0</th>\n",
       "      <td>2</td>\n",
       "      <td>Weather update - a cold front from Cuba that c...</td>\n",
       "      <td>Un front froid se retrouve sur Cuba ce matin. ...</td>\n",
       "      <td>direct</td>\n",
       "      <td>1</td>\n",
       "      <td>0</td>\n",
       "      <td>0</td>\n",
       "      <td>0</td>\n",
       "      <td>0</td>\n",
       "      <td>0</td>\n",
       "      <td>...</td>\n",
       "      <td>0</td>\n",
       "      <td>0</td>\n",
       "      <td>0</td>\n",
       "      <td>0</td>\n",
       "      <td>0</td>\n",
       "      <td>0</td>\n",
       "      <td>0</td>\n",
       "      <td>0</td>\n",
       "      <td>0</td>\n",
       "      <td>0</td>\n",
       "    </tr>\n",
       "    <tr>\n",
       "      <th>1</th>\n",
       "      <td>7</td>\n",
       "      <td>Is the Hurricane over or is it not over</td>\n",
       "      <td>Cyclone nan fini osinon li pa fini</td>\n",
       "      <td>direct</td>\n",
       "      <td>1</td>\n",
       "      <td>0</td>\n",
       "      <td>0</td>\n",
       "      <td>1</td>\n",
       "      <td>0</td>\n",
       "      <td>0</td>\n",
       "      <td>...</td>\n",
       "      <td>0</td>\n",
       "      <td>0</td>\n",
       "      <td>1</td>\n",
       "      <td>0</td>\n",
       "      <td>1</td>\n",
       "      <td>0</td>\n",
       "      <td>0</td>\n",
       "      <td>0</td>\n",
       "      <td>0</td>\n",
       "      <td>0</td>\n",
       "    </tr>\n",
       "    <tr>\n",
       "      <th>2</th>\n",
       "      <td>8</td>\n",
       "      <td>Looking for someone but no name</td>\n",
       "      <td>Patnm, di Maryani relem pou li banm nouvel li ...</td>\n",
       "      <td>direct</td>\n",
       "      <td>1</td>\n",
       "      <td>0</td>\n",
       "      <td>0</td>\n",
       "      <td>0</td>\n",
       "      <td>0</td>\n",
       "      <td>0</td>\n",
       "      <td>...</td>\n",
       "      <td>0</td>\n",
       "      <td>0</td>\n",
       "      <td>0</td>\n",
       "      <td>0</td>\n",
       "      <td>0</td>\n",
       "      <td>0</td>\n",
       "      <td>0</td>\n",
       "      <td>0</td>\n",
       "      <td>0</td>\n",
       "      <td>0</td>\n",
       "    </tr>\n",
       "    <tr>\n",
       "      <th>3</th>\n",
       "      <td>9</td>\n",
       "      <td>UN reports Leogane 80-90 destroyed. Only Hospi...</td>\n",
       "      <td>UN reports Leogane 80-90 destroyed. Only Hospi...</td>\n",
       "      <td>direct</td>\n",
       "      <td>1</td>\n",
       "      <td>1</td>\n",
       "      <td>0</td>\n",
       "      <td>1</td>\n",
       "      <td>0</td>\n",
       "      <td>1</td>\n",
       "      <td>...</td>\n",
       "      <td>0</td>\n",
       "      <td>0</td>\n",
       "      <td>0</td>\n",
       "      <td>0</td>\n",
       "      <td>0</td>\n",
       "      <td>0</td>\n",
       "      <td>0</td>\n",
       "      <td>0</td>\n",
       "      <td>0</td>\n",
       "      <td>0</td>\n",
       "    </tr>\n",
       "    <tr>\n",
       "      <th>4</th>\n",
       "      <td>12</td>\n",
       "      <td>says: west side of Haiti, rest of the country ...</td>\n",
       "      <td>facade ouest d Haiti et le reste du pays aujou...</td>\n",
       "      <td>direct</td>\n",
       "      <td>1</td>\n",
       "      <td>0</td>\n",
       "      <td>0</td>\n",
       "      <td>0</td>\n",
       "      <td>0</td>\n",
       "      <td>0</td>\n",
       "      <td>...</td>\n",
       "      <td>0</td>\n",
       "      <td>0</td>\n",
       "      <td>0</td>\n",
       "      <td>0</td>\n",
       "      <td>0</td>\n",
       "      <td>0</td>\n",
       "      <td>0</td>\n",
       "      <td>0</td>\n",
       "      <td>0</td>\n",
       "      <td>0</td>\n",
       "    </tr>\n",
       "  </tbody>\n",
       "</table>\n",
       "<p>5 rows × 40 columns</p>\n",
       "</div>"
      ],
      "text/plain": [
       "   id                                            message  \\\n",
       "0   2  Weather update - a cold front from Cuba that c...   \n",
       "1   7            Is the Hurricane over or is it not over   \n",
       "2   8                    Looking for someone but no name   \n",
       "3   9  UN reports Leogane 80-90 destroyed. Only Hospi...   \n",
       "4  12  says: west side of Haiti, rest of the country ...   \n",
       "\n",
       "                                            original   genre  related  \\\n",
       "0  Un front froid se retrouve sur Cuba ce matin. ...  direct        1   \n",
       "1                 Cyclone nan fini osinon li pa fini  direct        1   \n",
       "2  Patnm, di Maryani relem pou li banm nouvel li ...  direct        1   \n",
       "3  UN reports Leogane 80-90 destroyed. Only Hospi...  direct        1   \n",
       "4  facade ouest d Haiti et le reste du pays aujou...  direct        1   \n",
       "\n",
       "   request  offer  aid_related  medical_help  medical_products  ...  \\\n",
       "0        0      0            0             0                 0  ...   \n",
       "1        0      0            1             0                 0  ...   \n",
       "2        0      0            0             0                 0  ...   \n",
       "3        1      0            1             0                 1  ...   \n",
       "4        0      0            0             0                 0  ...   \n",
       "\n",
       "   aid_centers  other_infrastructure  weather_related  floods  storm  fire  \\\n",
       "0            0                     0                0       0      0     0   \n",
       "1            0                     0                1       0      1     0   \n",
       "2            0                     0                0       0      0     0   \n",
       "3            0                     0                0       0      0     0   \n",
       "4            0                     0                0       0      0     0   \n",
       "\n",
       "   earthquake  cold  other_weather  direct_report  \n",
       "0           0     0              0              0  \n",
       "1           0     0              0              0  \n",
       "2           0     0              0              0  \n",
       "3           0     0              0              0  \n",
       "4           0     0              0              0  \n",
       "\n",
       "[5 rows x 40 columns]"
      ]
     },
     "execution_count": 3,
     "metadata": {},
     "output_type": "execute_result"
    }
   ],
   "source": [
    "# load data from database\n",
    "engine = db.create_engine('sqlite:///messages.db')\n",
    "df = pd.read_sql_table('cleaned_messages', engine)\n",
    "df.head() "
   ]
  },
  {
   "cell_type": "code",
   "execution_count": 4,
   "metadata": {},
   "outputs": [],
   "source": [
    "# assign features and labels\n",
    "X = df['message'].values\n",
    "y = df.drop(['id', 'message', 'original', 'genre'], axis=1).values"
   ]
  },
  {
   "cell_type": "markdown",
   "metadata": {},
   "source": [
    "### 2. Write a tokenization function to process your text data"
   ]
  },
  {
   "cell_type": "code",
   "execution_count": 5,
   "metadata": {},
   "outputs": [],
   "source": [
    "def tokenize(text):\n",
    "    \"\"\"\n",
    "    Processes the provided text input:\n",
    "    - normalize\n",
    "    - tokenize\n",
    "    - remove stopwords\n",
    "    - lemmatization and stemming\n",
    "    \n",
    "    Inputs\n",
    "    ------\n",
    "    text : str\n",
    "        text to process\n",
    "        \n",
    "    Returns\n",
    "    -------\n",
    "    stemmed : list\n",
    "        list of processes words in the original text\n",
    "    \"\"\"\n",
    "    # normalize to lower case and remove punctuation\n",
    "    text = re.sub(r\"[^a-zA-Z0-9]\", \" \", text.lower())\n",
    "    \n",
    "    # tokenize message\n",
    "    tokens = nltk.tokenize.word_tokenize(text)\n",
    "    \n",
    "    # remove stopwors (English)\n",
    "    tokens = [word for word in tokens if word not in stopwords.words(\"english\")]\n",
    "    \n",
    "    # lemmatize and stem words\n",
    "    lemmatizer = nltk.stem.wordnet.WordNetLemmatizer()\n",
    "    stemmer = nltk.stem.porter.PorterStemmer()\n",
    "    \n",
    "    lemmed = [lemmatizer.lemmatize(token) for token in tokens]\n",
    "    stemmed = [stemmer.stem(lemma) for lemma in lemmed]\n",
    "    \n",
    "    return stemmed"
   ]
  },
  {
   "cell_type": "code",
   "execution_count": 6,
   "metadata": {},
   "outputs": [
    {
     "name": "stdout",
     "output_type": "stream",
     "text": [
      "we ask for someone to send us something, anything because there are people starving this moment\n",
      "['ask', 'someon', 'send', 'u', 'someth', 'anyth', 'peopl', 'starv', 'moment'] \n",
      "\n",
      "If anyone has a fracture, he wont be able to go to the dominican republic without a Visa.\n",
      "['anyon', 'fractur', 'wont', 'abl', 'go', 'dominican', 'republ', 'without', 'visa'] \n",
      "\n",
      "Help for the people in Carrefour ( Port au Prince ) zone Waney 89 and 93\n",
      "['help', 'peopl', 'carrefour', 'port', 'au', 'princ', 'zone', 'waney', '89', '93'] \n",
      "\n",
      "Information on flights to Miami.\n",
      "['inform', 'flight', 'miami'] \n",
      "\n",
      "We are waiting for a positive response. Thank you.\n",
      "['wait', 'posit', 'respons', 'thank'] \n",
      "\n"
     ]
    }
   ],
   "source": [
    "for message in X[1815:1820]:\n",
    "    print(message)\n",
    "    print(tokenize(message), '\\n')"
   ]
  },
  {
   "cell_type": "markdown",
   "metadata": {},
   "source": [
    "### 3. Build a machine learning pipeline\n",
    "This machine pipeline should take in the `message` column as input and output classification results on the other 36 categories in the dataset. You may find the [MultiOutputClassifier](http://scikit-learn.org/stable/modules/generated/sklearn.multioutput.MultiOutputClassifier.html) helpful for predicting multiple target variables."
   ]
  },
  {
   "cell_type": "code",
   "execution_count": 7,
   "metadata": {},
   "outputs": [],
   "source": [
    "# construct ML pipeline (choosen clf parameters were optimized via grid search)\n",
    "steps = [('count', CountVectorizer(tokenizer=tokenize)),\n",
    "         ('tfidf', TfidfTransformer()),\n",
    "         #('clf', MultiOutputClassifier(RandomForestClassifier(random_state=42)))\n",
    "         ('clf', MultiOutputClassifier(AdaBoostClassifier(n_estimators=100, learning_rate=0.5, random_state=42)))\n",
    "        ]\n",
    "\n",
    "pipeline = Pipeline(steps=steps)"
   ]
  },
  {
   "cell_type": "markdown",
   "metadata": {},
   "source": [
    "### 4. Train pipeline\n",
    "- Split data into train and test sets\n",
    "- Train pipeline"
   ]
  },
  {
   "cell_type": "code",
   "execution_count": 9,
   "metadata": {},
   "outputs": [],
   "source": [
    "# get class names\n",
    "classes = df.drop(['id', 'message', 'original', 'genre'], axis=1).columns.to_list()"
   ]
  },
  {
   "cell_type": "code",
   "execution_count": 10,
   "metadata": {},
   "outputs": [],
   "source": [
    "# split data into train and test sets\n",
    "X_train, X_test, y_train, y_test = train_test_split(X, y, test_size=0.25, shuffle=True, random_state=42)"
   ]
  },
  {
   "cell_type": "code",
   "execution_count": 16,
   "metadata": {},
   "outputs": [
    {
     "data": {
      "text/plain": [
       "Pipeline(memory=None,\n",
       "         steps=[('count',\n",
       "                 CountVectorizer(analyzer='word', binary=False,\n",
       "                                 decode_error='strict',\n",
       "                                 dtype=<class 'numpy.int64'>, encoding='utf-8',\n",
       "                                 input='content', lowercase=True, max_df=1.0,\n",
       "                                 max_features=None, min_df=1,\n",
       "                                 ngram_range=(1, 1), preprocessor=None,\n",
       "                                 stop_words=None, strip_accents=None,\n",
       "                                 token_pattern='(?u)\\\\b\\\\w\\\\w+\\\\b',\n",
       "                                 tokenizer=<function tokenize at 0x1a1a519ae8>,\n",
       "                                 vocabulary=None)),\n",
       "                ('tfidf',\n",
       "                 TfidfTransformer(norm='l2', smooth_idf=True,\n",
       "                                  sublinear_tf=False, use_idf=True)),\n",
       "                ('clf',\n",
       "                 MultiOutputClassifier(estimator=AdaBoostClassifier(algorithm='SAMME.R',\n",
       "                                                                    base_estimator=None,\n",
       "                                                                    learning_rate=0.5,\n",
       "                                                                    n_estimators=100,\n",
       "                                                                    random_state=42),\n",
       "                                       n_jobs=None))],\n",
       "         verbose=False)"
      ]
     },
     "execution_count": 16,
     "metadata": {},
     "output_type": "execute_result"
    }
   ],
   "source": [
    "# fit pipeline\n",
    "pipeline.fit(X_train, y_train)"
   ]
  },
  {
   "cell_type": "markdown",
   "metadata": {},
   "source": [
    "### 5. Test your model\n",
    "Report the f1 score, precision and recall for each output category of the dataset. You can do this by iterating through the columns and calling sklearn's `classification_report` on each."
   ]
  },
  {
   "cell_type": "code",
   "execution_count": 18,
   "metadata": {},
   "outputs": [],
   "source": [
    "# predict classes on test set\n",
    "y_pred = pipeline.predict(X_test)"
   ]
  },
  {
   "cell_type": "code",
   "execution_count": 19,
   "metadata": {},
   "outputs": [],
   "source": [
    "# define function to report model scores for each class\n",
    "def report_model_scores(tests, predictions, classes):\n",
    "    \"\"\"\n",
    "    Report precision, recall, and f1 scores for each class\n",
    "    \n",
    "    Parameters\n",
    "    ----------\n",
    "    tests : ndarray\n",
    "        true labels\n",
    "        \n",
    "    predictions : ndarray\n",
    "        predicted labels\n",
    "        \n",
    "    classes : list\n",
    "        classes\n",
    "        \n",
    "    Returns\n",
    "    -------\n",
    "    scores : ndarray\n",
    "        array of calculated scores (class in row, scores in columns: precision, recall, f1)\n",
    "    \"\"\"\n",
    "    # get number of classes and initialize scores array\n",
    "    n_classes = len(classes)\n",
    "    scores = np.zeros((n_classes, 3))\n",
    "    \n",
    "    # calculate precision, recall, and f1 for each class\n",
    "    for i in range(n_classes):\n",
    "        scores[i, 0] = precision_score(tests[:, i], predictions[:, i], average='weighted')\n",
    "        scores[i, 1] = recall_score(tests[:, i], predictions[:, i], average='weighted')\n",
    "        scores[i, 2] = f1_score(tests[:, i], predictions[:, i], average='weighted')\n",
    "    \n",
    "    # sort scores in ascending order by f1 score\n",
    "    idx = np.argsort(scores, axis=0)[:, 0]\n",
    "    \n",
    "    # print scores for each class in ascending order\n",
    "    for i in range(n_classes):\n",
    "        print(\"{0:25s}{1:.2f}\\t{2:.2f}\\t{3:.2f}\".format(classes[idx[i]], scores[idx[i], 0],\n",
    "                                                        scores[idx[i], 1], scores[idx[i], 2]))\n",
    "    \n",
    "    # calculate and print average scores\n",
    "    averages = np.average(scores, axis=0)\n",
    "    print(\"\\n{0:25s}{1:.2f}\\t{2:.2f}\\t{3:.2f}\".format(\"AVERAGES\", averages[0], averages[1], averages[2]))\n",
    "    \n",
    "    return scores"
   ]
  },
  {
   "cell_type": "code",
   "execution_count": 20,
   "metadata": {},
   "outputs": [
    {
     "name": "stdout",
     "output_type": "stream",
     "text": [
      "related                  0.75\t0.77\t0.69\n",
      "aid_related              0.77\t0.76\t0.76\n",
      "other_aid                0.83\t0.87\t0.83\n",
      "direct_report            0.84\t0.85\t0.82\n",
      "weather_related          0.87\t0.87\t0.87\n",
      "request                  0.89\t0.89\t0.88\n",
      "infrastructure_related   0.91\t0.94\t0.91\n",
      "medical_help             0.91\t0.93\t0.91\n",
      "storm                    0.93\t0.94\t0.93\n",
      "other_weather            0.93\t0.95\t0.93\n",
      "other_infrastructure     0.94\t0.96\t0.94\n",
      "shelter                  0.94\t0.95\t0.94\n",
      "food                     0.95\t0.95\t0.95\n",
      "medical_products         0.95\t0.96\t0.95\n",
      "transport                0.95\t0.96\t0.95\n",
      "floods                   0.96\t0.96\t0.95\n",
      "buildings                0.96\t0.96\t0.96\n",
      "refugees                 0.96\t0.97\t0.96\n",
      "water                    0.96\t0.97\t0.96\n",
      "death                    0.96\t0.97\t0.96\n",
      "security                 0.96\t0.98\t0.97\n",
      "military                 0.97\t0.97\t0.97\n",
      "search_and_rescue        0.97\t0.98\t0.97\n",
      "earthquake               0.97\t0.97\t0.97\n",
      "money                    0.97\t0.98\t0.98\n",
      "electricity              0.97\t0.98\t0.97\n",
      "aid_centers              0.98\t0.99\t0.98\n",
      "cold                     0.98\t0.98\t0.98\n",
      "clothing                 0.99\t0.99\t0.99\n",
      "tools                    0.99\t0.99\t0.99\n",
      "missing_people           0.99\t0.99\t0.99\n",
      "hospitals                0.99\t0.99\t0.99\n",
      "fire                     0.99\t0.99\t0.99\n",
      "offer                    0.99\t0.99\t0.99\n",
      "shops                    0.99\t1.00\t0.99\n",
      "child_alone              1.00\t1.00\t1.00\n",
      "\n",
      "AVERAGES                 0.94\t0.95\t0.94\n"
     ]
    }
   ],
   "source": [
    "# test function to report model scores\n",
    "scores = report_model_scores(y_test, y_pred, classes)"
   ]
  },
  {
   "cell_type": "markdown",
   "metadata": {},
   "source": [
    "### 6. Improve your model\n",
    "Use grid search to find better parameters. "
   ]
  },
  {
   "cell_type": "code",
   "execution_count": 21,
   "metadata": {},
   "outputs": [],
   "source": [
    "# AdaBoost parameters\n",
    "parameters = {\n",
    "    'clf__estimator__n_estimators': [10, 20, 50, 100],\n",
    "    'clf__estimator__learning_rate': [0.01, 0.1, 0.5, 0.8]\n",
    "}\n",
    "\n",
    "# RandomForest parameters\n",
    "# parameters = {\n",
    "#    'clf__estimator__n_estimators': [10, 20, 50, 100],\n",
    "#    'clf__estimator__min_samples_split': [2, 5, 10, 20]\n",
    "# }\n",
    "\n",
    "cv = GridSearchCV(pipeline, param_grid=parameters)\n",
    "\n",
    "# uncomment next line to run full grid search (takes some time due to full k-fold cross-validation)\n",
    "# cv.fit(X_train, y_train)"
   ]
  },
  {
   "cell_type": "code",
   "execution_count": 58,
   "metadata": {},
   "outputs": [
    {
     "data": {
      "text/plain": [
       "{'clf__estimator__learning_rate': 0.5, 'clf__estimator__n_estimators': 100}"
      ]
     },
     "execution_count": 58,
     "metadata": {},
     "output_type": "execute_result"
    }
   ],
   "source": [
    "# gest best parameters\n",
    "cv.best_params_"
   ]
  },
  {
   "cell_type": "markdown",
   "metadata": {},
   "source": [
    "### 7. Test your model\n",
    "Show the accuracy, precision, and recall of the tuned model.  \n",
    "\n",
    "Since this project focuses on code quality, process, and  pipelines, there is no minimum performance metric needed to pass. However, make sure to fine tune your models for accuracy, precision and recall to make your project stand out - especially for your portfolio!"
   ]
  },
  {
   "cell_type": "code",
   "execution_count": 22,
   "metadata": {},
   "outputs": [
    {
     "name": "stdout",
     "output_type": "stream",
     "text": [
      "related                  0.75\t0.77\t0.69\n",
      "aid_related              0.77\t0.76\t0.76\n",
      "other_aid                0.83\t0.87\t0.83\n",
      "direct_report            0.84\t0.85\t0.82\n",
      "weather_related          0.87\t0.87\t0.87\n",
      "request                  0.89\t0.89\t0.88\n",
      "infrastructure_related   0.91\t0.94\t0.91\n",
      "medical_help             0.91\t0.93\t0.91\n",
      "storm                    0.93\t0.94\t0.93\n",
      "other_weather            0.93\t0.95\t0.93\n",
      "other_infrastructure     0.94\t0.96\t0.94\n",
      "shelter                  0.94\t0.95\t0.94\n",
      "food                     0.95\t0.95\t0.95\n",
      "medical_products         0.95\t0.96\t0.95\n",
      "transport                0.95\t0.96\t0.95\n",
      "floods                   0.96\t0.96\t0.95\n",
      "buildings                0.96\t0.96\t0.96\n",
      "refugees                 0.96\t0.97\t0.96\n",
      "water                    0.96\t0.97\t0.96\n",
      "death                    0.96\t0.97\t0.96\n",
      "security                 0.96\t0.98\t0.97\n",
      "military                 0.97\t0.97\t0.97\n",
      "search_and_rescue        0.97\t0.98\t0.97\n",
      "earthquake               0.97\t0.97\t0.97\n",
      "money                    0.97\t0.98\t0.98\n",
      "electricity              0.97\t0.98\t0.97\n",
      "aid_centers              0.98\t0.99\t0.98\n",
      "cold                     0.98\t0.98\t0.98\n",
      "clothing                 0.99\t0.99\t0.99\n",
      "tools                    0.99\t0.99\t0.99\n",
      "missing_people           0.99\t0.99\t0.99\n",
      "hospitals                0.99\t0.99\t0.99\n",
      "fire                     0.99\t0.99\t0.99\n",
      "offer                    0.99\t0.99\t0.99\n",
      "shops                    0.99\t1.00\t0.99\n",
      "child_alone              1.00\t1.00\t1.00\n",
      "\n",
      "AVERAGES                 0.94\t0.95\t0.94\n"
     ]
    }
   ],
   "source": [
    "scores = report_model_scores(y_test, y_pred, classes)"
   ]
  },
  {
   "cell_type": "markdown",
   "metadata": {},
   "source": [
    "### 8. Try improving your model further. Here are a few ideas:\n",
    "* try other machine learning algorithms\n",
    "* add other features besides the TF-IDF"
   ]
  },
  {
   "cell_type": "markdown",
   "metadata": {},
   "source": [
    "> other ML algorithms were tried above"
   ]
  },
  {
   "cell_type": "markdown",
   "metadata": {},
   "source": [
    "### 9. Export your model as a pickle file"
   ]
  },
  {
   "cell_type": "code",
   "execution_count": 25,
   "metadata": {},
   "outputs": [],
   "source": [
    "# save trained model with pickle\n",
    "model_pkl = open('trained_model.pkl', 'wb')\n",
    "pickle.dump(pipeline, model_pkl)\n",
    "model_pkl.close()"
   ]
  },
  {
   "cell_type": "markdown",
   "metadata": {},
   "source": [
    "### 10. Use this notebook to complete `train.py`\n",
    "Use the template file attached in the Resources folder to write a script that runs the steps above to create a database and export a model based on a new dataset specified by the user."
   ]
  },
  {
   "cell_type": "code",
   "execution_count": null,
   "metadata": {},
   "outputs": [],
   "source": []
  }
 ],
 "metadata": {
  "kernelspec": {
   "display_name": "Python 3",
   "language": "python",
   "name": "python3"
  },
  "language_info": {
   "codemirror_mode": {
    "name": "ipython",
    "version": 3
   },
   "file_extension": ".py",
   "mimetype": "text/x-python",
   "name": "python",
   "nbconvert_exporter": "python",
   "pygments_lexer": "ipython3",
   "version": "3.7.3"
  }
 },
 "nbformat": 4,
 "nbformat_minor": 2
}
